{
  "nbformat": 4,
  "nbformat_minor": 0,
  "metadata": {
    "colab": {
      "name": "Copy of predictor.ipynb",
      "provenance": [],
      "collapsed_sections": [],
      "include_colab_link": true
    },
    "language_info": {
      "name": "python"
    },
    "kernelspec": {
      "name": "python3",
      "display_name": "Python 3"
    }
  },
  "cells": [
    {
      "cell_type": "markdown",
      "metadata": {
        "id": "view-in-github",
        "colab_type": "text"
      },
      "source": [
        "<a href=\"https://colab.research.google.com/github/dnestorovic/FPL-Predictor/blob/main/Copy_of_predictor.ipynb\" target=\"_parent\"><img src=\"https://colab.research.google.com/assets/colab-badge.svg\" alt=\"Open In Colab\"/></a>"
      ]
    },
    {
      "cell_type": "markdown",
      "metadata": {
        "id": "1NxIL_X8qVeR"
      },
      "source": [
        "# Fantasy Premier League predictor"
      ]
    },
    {
      "cell_type": "markdown",
      "metadata": {
        "id": "877_ysNzqrGE"
      },
      "source": [
        "##**Dataset**\n",
        "Because this project were developed in Google Colab, dataset must be loaded from git repository first."
      ]
    },
    {
      "cell_type": "code",
      "metadata": {
        "colab": {
          "base_uri": "https://localhost:8080/"
        },
        "id": "SlmQ20GRqdrd",
        "outputId": "f220c0cb-4799-4fdb-dd4a-a4a5f582f633"
      },
      "source": [
        "!git clone https://github.com/dnestorovic/FPL-Predictor.git"
      ],
      "execution_count": 2,
      "outputs": [
        {
          "output_type": "stream",
          "text": [
            "Cloning into 'FPL-Predictor'...\n",
            "remote: Enumerating objects: 9885, done.\u001b[K\n",
            "remote: Counting objects: 100% (9885/9885), done.\u001b[K\n",
            "remote: Compressing objects: 100% (7437/7437), done.\u001b[K\n",
            "remote: Total 9885 (delta 1523), reused 9881 (delta 1522), pack-reused 0\u001b[K\n",
            "Receiving objects: 100% (9885/9885), 20.85 MiB | 15.77 MiB/s, done.\n",
            "Resolving deltas: 100% (1523/1523), done.\n"
          ],
          "name": "stdout"
        }
      ]
    },
    {
      "cell_type": "code",
      "metadata": {
        "id": "bObIu2HtqmkV"
      },
      "source": [
        "import pandas as pd\n",
        "import numpy as np\n",
        "import tensorflow as tf\n",
        "from tensorflow import keras\n",
        "from matplotlib import pyplot as plt\n",
        "import seaborn as sns"
      ],
      "execution_count": 11,
      "outputs": []
    },
    {
      "cell_type": "markdown",
      "metadata": {
        "id": "BtAJ0s0lvYYG"
      },
      "source": [
        "# **Dataset**"
      ]
    },
    {
      "cell_type": "markdown",
      "metadata": {
        "id": "k-qA_Xi0vGYX"
      },
      "source": [
        "Loading dataset of merged gameweeks data"
      ]
    },
    {
      "cell_type": "code",
      "metadata": {
        "id": "EfX94VvZr8fX"
      },
      "source": [
        "dataset = pd.read_csv('/content/FPL-Predictor/data/2020-21/gws/merged_gw.csv')"
      ],
      "execution_count": 12,
      "outputs": []
    },
    {
      "cell_type": "markdown",
      "metadata": {
        "id": "gxpyUKO4veX0"
      },
      "source": [
        "Some informations about dataset:"
      ]
    },
    {
      "cell_type": "code",
      "metadata": {
        "colab": {
          "base_uri": "https://localhost:8080/"
        },
        "id": "4l47wUIUs0Sl",
        "outputId": "c5506fa4-6c3b-4c13-e6a7-9aa77a9efb52"
      },
      "source": [
        "print('-------------------------------------------------COLUMNS-------------------------------------------------')\n",
        "print(np.unique(dataset.columns), end=\"\\n\\n\")\n",
        "print('-------------------------------------------------DESCRIBE------------------------------------------------')\n",
        "print(dataset.describe, end=\"\\n\\n\")\n",
        "print('--------------------------------------------------HEAD---------------------------------------------------')\n",
        "print(dataset.head, end=\"\\n\\n\")\n",
        "print('--------------------------------------------------SIZE---------------------------------------------------')\n",
        "print(dataset.shape)"
      ],
      "execution_count": 13,
      "outputs": [
        {
          "output_type": "stream",
          "text": [
            "-------------------------------------------------COLUMNS-------------------------------------------------\n",
            "['GW' 'assists' 'bonus' 'bps' 'clean_sheets' 'creativity' 'element'\n",
            " 'fixture' 'goals_conceded' 'goals_scored' 'ict_index' 'influence'\n",
            " 'kickoff_time' 'minutes' 'name' 'opponent_team' 'own_goals'\n",
            " 'penalties_missed' 'penalties_saved' 'position' 'red_cards' 'round'\n",
            " 'saves' 'selected' 'team' 'team_a_score' 'team_h_score' 'threat'\n",
            " 'total_points' 'transfers_balance' 'transfers_in' 'transfers_out' 'value'\n",
            " 'was_home' 'xP' 'yellow_cards']\n",
            "\n",
            "-------------------------------------------------DESCRIBE------------------------------------------------\n",
            "<bound method NDFrame.describe of                        name position           team  ...  was_home  yellow_cards  GW\n",
            "0            Aaron Connolly      FWD       Brighton  ...      True             0   1\n",
            "1           Aaron Cresswell      DEF       West Ham  ...      True             0   1\n",
            "2                Aaron Mooy      MID       Brighton  ...      True             0   1\n",
            "3            Aaron Ramsdale       GK  Sheffield Utd  ...      True             0   1\n",
            "4        Abdoulaye Doucouré      MID        Everton  ...     False             0   1\n",
            "...                     ...      ...            ...  ...       ...           ...  ..\n",
            "24360        Aaron Ramsdale       GK  Sheffield Utd  ...      True             0  38\n",
            "24361          Adrien Silva      MID      Leicester  ...      True             0  38\n",
            "24362        Sidnei Tavares      MID      Leicester  ...      True             0  38\n",
            "24363       Kalvin Phillips      MID          Leeds  ...      True             1  38\n",
            "24364  Raphael Dias Belloli      MID          Leeds  ...      True             0  38\n",
            "\n",
            "[24365 rows x 36 columns]>\n",
            "\n",
            "--------------------------------------------------HEAD---------------------------------------------------\n",
            "<bound method NDFrame.head of                        name position           team  ...  was_home  yellow_cards  GW\n",
            "0            Aaron Connolly      FWD       Brighton  ...      True             0   1\n",
            "1           Aaron Cresswell      DEF       West Ham  ...      True             0   1\n",
            "2                Aaron Mooy      MID       Brighton  ...      True             0   1\n",
            "3            Aaron Ramsdale       GK  Sheffield Utd  ...      True             0   1\n",
            "4        Abdoulaye Doucouré      MID        Everton  ...     False             0   1\n",
            "...                     ...      ...            ...  ...       ...           ...  ..\n",
            "24360        Aaron Ramsdale       GK  Sheffield Utd  ...      True             0  38\n",
            "24361          Adrien Silva      MID      Leicester  ...      True             0  38\n",
            "24362        Sidnei Tavares      MID      Leicester  ...      True             0  38\n",
            "24363       Kalvin Phillips      MID          Leeds  ...      True             1  38\n",
            "24364  Raphael Dias Belloli      MID          Leeds  ...      True             0  38\n",
            "\n",
            "[24365 rows x 36 columns]>\n",
            "\n",
            "--------------------------------------------------SIZE---------------------------------------------------\n",
            "(24365, 36)\n"
          ],
          "name": "stdout"
        }
      ]
    },
    {
      "cell_type": "markdown",
      "metadata": {
        "id": "CtCsMwVN4l3o"
      },
      "source": [
        "Dataset split by position. This section shows how position of a player affects on a:\n",
        "\n",
        "\n",
        "*   Goals\n",
        "*   Assists\n",
        "*   Bonus points\n",
        "*   Own goals\n",
        "*   Average cost\n",
        "*   Total points\n"
      ]
    },
    {
      "cell_type": "code",
      "metadata": {
        "id": "SvsOLbtKvF9S"
      },
      "source": [
        "goalkeepers = pd.DataFrame(dataset[dataset['position'] == 'GK'])\n",
        "defenders = pd.DataFrame(dataset[dataset['position'] == 'DEF'])\n",
        "midfielders = pd.DataFrame(dataset[dataset['position'] == 'MID'])\n",
        "forwards = pd.DataFrame(dataset[dataset['position'] == 'FWD'])"
      ],
      "execution_count": 22,
      "outputs": []
    },
    {
      "cell_type": "code",
      "metadata": {
        "colab": {
          "base_uri": "https://localhost:8080/",
          "height": 763
        },
        "id": "3Ot46J4F0kHx",
        "outputId": "e5032d5d-80a1-42e5-9372-c9e96f90a6db"
      },
      "source": [
        "positions = ['DEF', 'MID', 'FWD']\n",
        "\n",
        "goals = [defenders['goals_scored'].sum(), midfielders['goals_scored'].sum(), forwards['goals_scored'].sum()]\n",
        "assists = [defenders['assists'].sum(), midfielders['assists'].sum(), forwards['assists'].sum()]\n",
        "bonus = [defenders['bonus'].sum(), midfielders['bonus'].sum(), forwards['bonus'].sum()]\n",
        "\n",
        "own_goals = [defenders['own_goals'].sum(), midfielders['own_goals'].sum(), forwards['own_goals'].sum()]\n",
        "mean_value = [defenders['value'].mean()/10, midfielders['value'].mean()/10, forwards['value'].mean()/10]\n",
        "points = [defenders['total_points'].sum(), midfielders['total_points'].sum(), forwards['total_points'].sum()]\n",
        "\n",
        "\n",
        "\n",
        "plt.figure(figsize=(18,6))\n",
        "\n",
        "plt.subplot(1, 3, 1)\n",
        "plt.title('Goals')\n",
        "plt.bar(positions, goals, color = 'r')\n",
        "for i, v in enumerate(goals):\n",
        "    plt.text(positions[i], v + 0.01, str(v))\n",
        "\n",
        "\n",
        "plt.subplot(1, 3, 2)\n",
        "plt.title('Assists')\n",
        "plt.bar(positions, assists,  color = 'g')\n",
        "for i, v in enumerate(assists):\n",
        "    plt.text(positions[i], v + 0.01, str(v))\n",
        "\n",
        "\n",
        "plt.subplot(1, 3, 3)\n",
        "plt.title('Bonus')\n",
        "plt.bar(positions, bonus,  color = 'b')\n",
        "for i, v in enumerate(bonus):\n",
        "    plt.text(positions[i], v + 0.01, str(v))\n",
        "\n",
        "plt.show\n",
        "\n",
        "\n",
        "plt.figure(figsize=(18,6))\n",
        "\n",
        "plt.subplot(1, 3, 1)\n",
        "plt.title('Own goals')\n",
        "plt.bar(positions, own_goals,  color = 'r')\n",
        "for i, v in enumerate(own_goals):\n",
        "    plt.text(positions[i], v + 0.01, str(v))\n",
        "\n",
        "plt.subplot(1, 3, 2)\n",
        "plt.title('Average cost')\n",
        "plt.bar(positions, mean_value,  color = 'g')\n",
        "for i, v in enumerate(mean_value):\n",
        "    plt.text(positions[i], v + 0.01, str(round(v, 3))+'m')\n",
        "\n",
        "\n",
        "plt.subplot(1, 3, 3)\n",
        "plt.title('Points')\n",
        "plt.bar(positions, points,  color = 'b')\n",
        "for i, v in enumerate(points):\n",
        "    plt.text(positions[i], v + 0.01, str(v))\n",
        "\n",
        "\n",
        "plt.show()"
      ],
      "execution_count": 63,
      "outputs": [
        {
          "output_type": "display_data",
          "data": {
            "image/png": "[encoded data removed]",
            "text/plain": [
              "<Figure size 1296x432 with 3 Axes>"
            ]
          },
          "metadata": {
            "tags": [],
            "needs_background": "light"
          }
        },
        {
          "output_type": "display_data",
          "data": {
            "image/png": "[encoded data removed]",
            "text/plain": [
              "<Figure size 1296x432 with 3 Axes>"
            ]
          },
          "metadata": {
            "tags": [],
            "needs_background": "light"
          }
        }
      ]
    },
    {
      "cell_type": "code",
      "metadata": {
        "id": "DpaHB-eV5mtC"
      },
      "source": [
        ""
      ],
      "execution_count": 63,
      "outputs": []
    }
  ]
}