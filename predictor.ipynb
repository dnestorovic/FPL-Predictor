{
  "nbformat": 4,
  "nbformat_minor": 0,
  "metadata": {
    "colab": {
      "name": "Copy of predictor.ipynb",
      "provenance": [],
      "collapsed_sections": []
    },
    "kernelspec": {
      "display_name": "Python 3",
      "name": "python3"
    },
    "language_info": {
      "name": "python"
    }
  },
  "cells": [
    {
      "cell_type": "markdown",
      "metadata": {
        "id": "1NxIL_X8qVeR"
      },
      "source": [
        "# Fantasy Premier League predictor"
      ]
    },
    {
      "cell_type": "markdown",
      "metadata": {
        "id": "877_ysNzqrGE"
      },
      "source": [
        "#**Dataset import**\n",
        "Because this project were developed in Google Colab, dataset must be loaded from git repository first."
      ]
    },
    {
      "cell_type": "code",
      "metadata": {
        "colab": {
          "base_uri": "https://localhost:8080/"
        },
        "id": "SlmQ20GRqdrd",
        "outputId": "5846ac76-f145-4c94-ac0a-3307364e521c"
      },
      "source": [
        "!git clone https://github.com/dnestorovic/FPL-Predictor.git"
      ],
      "execution_count": null,
      "outputs": [
        {
          "output_type": "stream",
          "text": [
            "Cloning into 'FPL-Predictor'...\n",
            "remote: Enumerating objects: 9888, done.\u001b[K\n",
            "remote: Counting objects: 100% (9888/9888), done.\u001b[K\n",
            "remote: Compressing objects: 100% (7440/7440), done.\u001b[K\n",
            "remote: Total 9888 (delta 1524), reused 9880 (delta 1522), pack-reused 0\u001b[K\n",
            "Receiving objects: 100% (9888/9888), 20.88 MiB | 18.27 MiB/s, done.\n",
            "Resolving deltas: 100% (1524/1524), done.\n"
          ],
          "name": "stdout"
        }
      ]
    },
    {
      "cell_type": "code",
      "metadata": {
        "id": "bObIu2HtqmkV"
      },
      "source": [
        "import pandas as pd\n",
        "import numpy as np\n",
        "import tensorflow as tf\n",
        "from tensorflow import keras\n",
        "from matplotlib import pyplot as plt\n",
        "import seaborn as sns"
      ],
      "execution_count": null,
      "outputs": []
    },
    {
      "cell_type": "markdown",
      "metadata": {
        "id": "BtAJ0s0lvYYG"
      },
      "source": [
        "# **Dataset**"
      ]
    },
    {
      "cell_type": "markdown",
      "metadata": {
        "id": "k-qA_Xi0vGYX"
      },
      "source": [
        "Loading dataset of merged gameweeks data for last season."
      ]
    },
    {
      "cell_type": "code",
      "metadata": {
        "id": "EfX94VvZr8fX"
      },
      "source": [
        "dataset = pd.read_csv('/content/FPL-Predictor/data/2020-21/gws/merged_gw.csv')"
      ],
      "execution_count": null,
      "outputs": []
    },
    {
      "cell_type": "markdown",
      "metadata": {
        "id": "gxpyUKO4veX0"
      },
      "source": [
        "Some informations about dataset:"
      ]
    },
    {
      "cell_type": "code",
      "metadata": {
        "colab": {
          "base_uri": "https://localhost:8080/"
        },
        "id": "4l47wUIUs0Sl",
        "outputId": "85113832-e3d9-4164-d45d-45102de45032"
      },
      "source": [
        "print('-------------------------------------------------COLUMNS-------------------------------------------------')\n",
        "print(np.unique(dataset.columns), end=\"\\n\\n\")\n",
        "print('-------------------------------------------------DESCRIBE------------------------------------------------')\n",
        "print(dataset.describe, end=\"\\n\\n\")\n",
        "print('--------------------------------------------------HEAD---------------------------------------------------')\n",
        "print(dataset.head, end=\"\\n\\n\")\n",
        "print('--------------------------------------------------SIZE---------------------------------------------------')\n",
        "print(dataset.shape)"
      ],
      "execution_count": null,
      "outputs": [
        {
          "output_type": "stream",
          "text": [
            "-------------------------------------------------COLUMNS-------------------------------------------------\n",
            "['GW' 'assists' 'bonus' 'bps' 'clean_sheets' 'creativity' 'element'\n",
            " 'fixture' 'goals_conceded' 'goals_scored' 'ict_index' 'influence'\n",
            " 'kickoff_time' 'minutes' 'name' 'opponent_team' 'own_goals'\n",
            " 'penalties_missed' 'penalties_saved' 'position' 'red_cards' 'round'\n",
            " 'saves' 'selected' 'team' 'team_a_score' 'team_h_score' 'threat'\n",
            " 'total_points' 'transfers_balance' 'transfers_in' 'transfers_out' 'value'\n",
            " 'was_home' 'xP' 'yellow_cards']\n",
            "\n",
            "-------------------------------------------------DESCRIBE------------------------------------------------\n",
            "<bound method NDFrame.describe of                        name position           team  ...  was_home  yellow_cards  GW\n",
            "0            Aaron Connolly      FWD       Brighton  ...      True             0   1\n",
            "1           Aaron Cresswell      DEF       West Ham  ...      True             0   1\n",
            "2                Aaron Mooy      MID       Brighton  ...      True             0   1\n",
            "3            Aaron Ramsdale       GK  Sheffield Utd  ...      True             0   1\n",
            "4        Abdoulaye Doucouré      MID        Everton  ...     False             0   1\n",
            "...                     ...      ...            ...  ...       ...           ...  ..\n",
            "24360        Aaron Ramsdale       GK  Sheffield Utd  ...      True             0  38\n",
            "24361          Adrien Silva      MID      Leicester  ...      True             0  38\n",
            "24362        Sidnei Tavares      MID      Leicester  ...      True             0  38\n",
            "24363       Kalvin Phillips      MID          Leeds  ...      True             1  38\n",
            "24364  Raphael Dias Belloli      MID          Leeds  ...      True             0  38\n",
            "\n",
            "[24365 rows x 36 columns]>\n",
            "\n",
            "--------------------------------------------------HEAD---------------------------------------------------\n",
            "<bound method NDFrame.head of                        name position           team  ...  was_home  yellow_cards  GW\n",
            "0            Aaron Connolly      FWD       Brighton  ...      True             0   1\n",
            "1           Aaron Cresswell      DEF       West Ham  ...      True             0   1\n",
            "2                Aaron Mooy      MID       Brighton  ...      True             0   1\n",
            "3            Aaron Ramsdale       GK  Sheffield Utd  ...      True             0   1\n",
            "4        Abdoulaye Doucouré      MID        Everton  ...     False             0   1\n",
            "...                     ...      ...            ...  ...       ...           ...  ..\n",
            "24360        Aaron Ramsdale       GK  Sheffield Utd  ...      True             0  38\n",
            "24361          Adrien Silva      MID      Leicester  ...      True             0  38\n",
            "24362        Sidnei Tavares      MID      Leicester  ...      True             0  38\n",
            "24363       Kalvin Phillips      MID          Leeds  ...      True             1  38\n",
            "24364  Raphael Dias Belloli      MID          Leeds  ...      True             0  38\n",
            "\n",
            "[24365 rows x 36 columns]>\n",
            "\n",
            "--------------------------------------------------SIZE---------------------------------------------------\n",
            "(24365, 36)\n"
          ],
          "name": "stdout"
        }
      ]
    },
    {
      "cell_type": "markdown",
      "metadata": {
        "id": "CtCsMwVN4l3o"
      },
      "source": [
        "Dataset split by **position**. This section shows how position of a player affects on a:\n",
        "\n",
        "\n",
        "*   Goals\n",
        "*   Assists\n",
        "*   Bonus points\n",
        "*   Own goals\n",
        "*   Average cost\n",
        "*   Total points\n"
      ]
    },
    {
      "cell_type": "code",
      "metadata": {
        "id": "SvsOLbtKvF9S"
      },
      "source": [
        "goalkeepers = pd.DataFrame(dataset[dataset['position'] == 'GK'])\n",
        "defenders = pd.DataFrame(dataset[dataset['position'] == 'DEF'])\n",
        "midfielders = pd.DataFrame(dataset[dataset['position'] == 'MID'])\n",
        "forwards = pd.DataFrame(dataset[dataset['position'] == 'FWD'])"
      ],
      "execution_count": null,
      "outputs": []
    },
    {
      "cell_type": "code",
      "metadata": {
        "colab": {
          "base_uri": "https://localhost:8080/",
          "height": 763
        },
        "id": "3Ot46J4F0kHx",
        "outputId": "15092896-af6a-49bf-98fb-50dd3405298d"
      },
      "source": [
        "positions = ['DEF', 'MID', 'FWD']\n",
        "\n",
        "goals = [defenders['goals_scored'].sum(), midfielders['goals_scored'].sum(), forwards['goals_scored'].sum()]\n",
        "assists = [defenders['assists'].sum(), midfielders['assists'].sum(), forwards['assists'].sum()]\n",
        "bonus = [defenders['bonus'].sum(), midfielders['bonus'].sum(), forwards['bonus'].sum()]\n",
        "\n",
        "own_goals = [defenders['own_goals'].sum(), midfielders['own_goals'].sum(), forwards['own_goals'].sum()]\n",
        "mean_value = [defenders['value'].mean()/10, midfielders['value'].mean()/10, forwards['value'].mean()/10]\n",
        "points = [defenders['total_points'].sum(), midfielders['total_points'].sum(), forwards['total_points'].sum()]\n",
        "\n",
        "\n",
        "\n",
        "plt.figure(figsize=(18,6))\n",
        "\n",
        "plt.subplot(1, 3, 1)\n",
        "plt.title('Goals')\n",
        "plt.bar(positions, goals, color = 'r')\n",
        "for i, v in enumerate(goals):\n",
        "    plt.text(positions[i], v + 0.01, str(v))\n",
        "\n",
        "\n",
        "plt.subplot(1, 3, 2)\n",
        "plt.title('Assists')\n",
        "plt.bar(positions, assists,  color = 'g')\n",
        "for i, v in enumerate(assists):\n",
        "    plt.text(positions[i], v + 0.01, str(v))\n",
        "\n",
        "\n",
        "plt.subplot(1, 3, 3)\n",
        "plt.title('Bonus')\n",
        "plt.bar(positions, bonus,  color = 'b')\n",
        "for i, v in enumerate(bonus):\n",
        "    plt.text(positions[i], v + 0.01, str(v))\n",
        "\n",
        "plt.show\n",
        "\n",
        "\n",
        "plt.figure(figsize=(18,6))\n",
        "\n",
        "plt.subplot(1, 3, 1)\n",
        "plt.title('Own goals')\n",
        "plt.bar(positions, own_goals,  color = 'r')\n",
        "for i, v in enumerate(own_goals):\n",
        "    plt.text(positions[i], v + 0.01, str(v))\n",
        "\n",
        "plt.subplot(1, 3, 2)\n",
        "plt.title('Average cost')\n",
        "plt.bar(positions, mean_value,  color = 'g')\n",
        "for i, v in enumerate(mean_value):\n",
        "    plt.text(positions[i], v + 0.01, str(round(v, 3))+'m')\n",
        "\n",
        "\n",
        "plt.subplot(1, 3, 3)\n",
        "plt.title('Points')\n",
        "plt.bar(positions, points,  color = 'b')\n",
        "for i, v in enumerate(points):\n",
        "    plt.text(positions[i], v + 0.01, str(v))\n",
        "\n",
        "\n",
        "plt.show()"
      ],
      "execution_count": null,
      "outputs": [
        {
          "output_type": "display_data",
          "data": {
            "image/png": "[encoded data removed]",
            "text/plain": [
              "<Figure size 1296x432 with 3 Axes>"
            ]
          },
          "metadata": {
            "tags": []
          }
        },
        {
          "output_type": "display_data",
          "data": {
            "image/png": "[encoded data removed]",
            "text/plain": [
              "<Figure size 1296x432 with 3 Axes>"
            ]
          },
          "metadata": {
            "tags": []
          }
        }
      ]
    },
    {
      "cell_type": "markdown",
      "metadata": {
        "id": "uzybDGHh7I1s"
      },
      "source": [
        "Dataset split by **gameweeks**(There is possibility to get informations about gameweeks from separate files, but I will use informations loaded from merged file)."
      ]
    },
    {
      "cell_type": "code",
      "metadata": {
        "colab": {
          "base_uri": "https://localhost:8080/"
        },
        "id": "c7IjAXH58t_6",
        "outputId": "0b4ec527-736a-4343-a55d-88f6e842afc5"
      },
      "source": [
        "number_of_allready_played_gameweeks = len(np.unique(dataset['GW']))\n",
        "print(number_of_allready_played_gameweeks)"
      ],
      "execution_count": null,
      "outputs": [
        {
          "output_type": "stream",
          "text": [
            "38\n"
          ],
          "name": "stdout"
        }
      ]
    },
    {
      "cell_type": "code",
      "metadata": {
        "colab": {
          "base_uri": "https://localhost:8080/",
          "height": 390
        },
        "id": "DpaHB-eV5mtC",
        "outputId": "29815b83-8607-46cb-8535-291ece1597a8"
      },
      "source": [
        "# get separate gameweeks into one array \n",
        "gameweeks = [dataset[dataset['GW'] == i] for i in range(1, number_of_allready_played_gameweeks + 1)]\n",
        "\n",
        "goals_per_week = [gameweeks[i]['goals_scored'].sum() for i in range(number_of_allready_played_gameweeks)]\n",
        "assists_per_week = [gameweeks[i]['assists'].sum() for i in range(number_of_allready_played_gameweeks)]\n",
        "yellows_per_week = [gameweeks[i]['yellow_cards'].sum() for i in range(number_of_allready_played_gameweeks)]\n",
        "\n",
        "\n",
        "\n",
        "plt.figure(figsize=(18, 6))\n",
        "\n",
        "# plot goals per week\n",
        "plt.subplot(3, 1, 1)\n",
        "plt.bar(range(1, number_of_allready_played_gameweeks + 1), goals_per_week, color = 'g')\n",
        "plt.title('Goals per week')\n",
        "for i, v in enumerate(goals_per_week):\n",
        "    plt.text(i+1, v + 0.01, str(v))\n",
        "\n",
        "\n",
        "# plot assists per week\n",
        "plt.subplot(3, 1, 2)\n",
        "plt.bar(range(1, number_of_allready_played_gameweeks + 1), assists_per_week, color = 'r')\n",
        "plt.title('Assists per week')\n",
        "for i, v in enumerate(assists_per_week):\n",
        "    plt.text(i+1, v + 0.01, str(v))\n",
        "\n",
        "\n",
        "# plot yellow cards per week\n",
        "plt.subplot(3, 1, 3)\n",
        "plt.bar(range(1, number_of_allready_played_gameweeks + 1), yellows_per_week, color = 'y')\n",
        "plt.title('Yellow cards per week')\n",
        "for i, v in enumerate(yellows_per_week):\n",
        "    plt.text(i+1, v + 0.01, str(v))\n",
        "\n",
        "\n",
        "plt.show()"
      ],
      "execution_count": null,
      "outputs": [
        {
          "output_type": "display_data",
          "data": {
            "image/png": "[encoded data removed]",
            "text/plain": [
              "<Figure size 1296x432 with 3 Axes>"
            ]
          },
          "metadata": {
            "tags": []
          }
        }
      ]
    },
    {
      "cell_type": "markdown",
      "metadata": {
        "id": "6kzB7WP6LEbt"
      },
      "source": [
        "## Data preperation\n",
        "\n",
        "Some attributes that aren't currently in dataset, should help in our neural network. For example player goals form, player assists form, player form at home, player away form, club current form, club home/away form..."
      ]
    },
    {
      "cell_type": "markdown",
      "metadata": {
        "id": "PjUaKUjVXuif"
      },
      "source": [
        "### Individual player stats"
      ]
    },
    {
      "cell_type": "code",
      "metadata": {
        "id": "ug4kRtP2NsSR"
      },
      "source": [
        "def create_form_for_specific_week(attribute, current_week, dataset):\n",
        "\n",
        "    # get last 5 weeks\n",
        "    all_weeks_before = dataset[dataset['GW'] < current_week]  \n",
        "    last_5_weeks = all_weeks_before[all_weeks_before['GW'] > current_week - 6]\n",
        "\n",
        "    # get current gameweek\n",
        "    gameweek = dataset[dataset['GW'] == current_week]\n",
        "\n",
        "    stats = []\n",
        "    for index, row in gameweek.iterrows():\n",
        "        # get player\n",
        "        player = row['name']\n",
        "\n",
        "        # get stats about given attreibute for current player\n",
        "        player_stats = last_5_weeks[last_5_weeks['name'] == player][attribute].sum()\n",
        "\n",
        "        # append result in stats array\n",
        "        stats.append(player_stats)\n",
        "    \n",
        "    return stats\n",
        "\n"
      ],
      "execution_count": null,
      "outputs": []
    },
    {
      "cell_type": "code",
      "metadata": {
        "id": "rsJDdW7XijTv"
      },
      "source": [
        "def calculate_player_form(attribute, current_week, dataset):\n",
        "\n",
        "    # get stats about each gameweek\n",
        "    non_flatten_stats_column = []\n",
        "\n",
        "    # itterate thought evry gameweek untill current\n",
        "    for i in range(current_week+1):\n",
        "        # call function to calculate form for current gameweek\n",
        "        gw = create_form_for_specific_week(attribute, i+1, dataset)\n",
        "        \n",
        "        # append results \n",
        "        non_flatten_stats_column.append(gw)\n",
        "\n",
        "    # flat list of lists into single list\n",
        "    flat_list = [stat for gw in non_flatten_stats_column for stat in gw]\n",
        "\n",
        "    # print result size and dataset size just to assume that everything performed well\n",
        "    print(len(flat_list), dataset.shape)\n",
        "\n",
        "    return flat_list\n"
      ],
      "execution_count": null,
      "outputs": []
    },
    {
      "cell_type": "markdown",
      "metadata": {
        "id": "zwm_wGq4XTEG"
      },
      "source": [
        "**Forms depended on players individual stats.**"
      ]
    },
    {
      "cell_type": "code",
      "metadata": {
        "colab": {
          "base_uri": "https://localhost:8080/"
        },
        "id": "EM67BXUFJbNV",
        "outputId": "284b390d-115b-4094-97bb-543c20aa2c3a"
      },
      "source": [
        "assists_forms =  calculate_player_form('assists', number_of_allready_played_gameweeks, dataset)\n",
        "goals_form = calculate_player_form('goals_scored', number_of_allready_played_gameweeks, dataset)\n",
        "bonus_form = calculate_player_form('bonus', number_of_allready_played_gameweeks, dataset)\n",
        "yellow_cards_form = calculate_player_form('yellow_cards', number_of_allready_played_gameweeks, dataset)\n",
        "red_cards_form = calculate_player_form('red_cards', number_of_allready_played_gameweeks, dataset)\n",
        "clean_sheets_form = calculate_player_form('clean_sheets', number_of_allready_played_gameweeks, dataset)\n",
        "total_points_form = calculate_player_form('total_points', number_of_allready_played_gameweeks, dataset)\n",
        "\n",
        "\n",
        "dataset.insert(dataset.shape[1], 'assists_form' ,assists_forms)\n",
        "dataset.insert(dataset.shape[1], 'goals_form', goals_form)\n",
        "dataset.insert(dataset.shape[1], 'bonus_form', bonus_form)\n",
        "dataset.insert(dataset.shape[1], 'yellow_cards_form', yellow_cards_form)\n",
        "dataset.insert(dataset.shape[1], 'red_cards_form', red_cards_form)\n",
        "dataset.insert(dataset.shape[1], 'clean_sheets_form', clean_sheets_form)\n",
        "dataset.insert(dataset.shape[1], 'total_points_form', total_points_form)\n",
        "\n",
        "\n",
        "print(dataset)"
      ],
      "execution_count": null,
      "outputs": [
        {
          "output_type": "stream",
          "text": [
            "24365 (24365, 36)\n",
            "24365 (24365, 36)\n",
            "24365 (24365, 36)\n",
            "24365 (24365, 36)\n",
            "24365 (24365, 36)\n",
            "24365 (24365, 36)\n",
            "24365 (24365, 36)\n",
            "                       name position  ... clean_sheets_form  total_points_form\n",
            "0            Aaron Connolly      FWD  ...                 0                  0\n",
            "1           Aaron Cresswell      DEF  ...                 0                  0\n",
            "2                Aaron Mooy      MID  ...                 0                  0\n",
            "3            Aaron Ramsdale       GK  ...                 0                  0\n",
            "4        Abdoulaye Doucouré      MID  ...                 0                  0\n",
            "...                     ...      ...  ...               ...                ...\n",
            "24360        Aaron Ramsdale       GK  ...                 2                 27\n",
            "24361          Adrien Silva      MID  ...                 0                  0\n",
            "24362        Sidnei Tavares      MID  ...                 0                  0\n",
            "24363       Kalvin Phillips      MID  ...                 2                  6\n",
            "24364  Raphael Dias Belloli      MID  ...                 2                 13\n",
            "\n",
            "[24365 rows x 43 columns]\n"
          ],
          "name": "stdout"
        }
      ]
    },
    {
      "cell_type": "markdown",
      "metadata": {
        "id": "aRSKvz7uX46S"
      },
      "source": [
        "### Club stats"
      ]
    },
    {
      "cell_type": "markdown",
      "metadata": {
        "id": "QMKbyXHHfpeu"
      },
      "source": [
        "#### Create clubs dataframe"
      ]
    },
    {
      "cell_type": "code",
      "metadata": {
        "colab": {
          "background_save": true,
          "base_uri": "https://localhost:8080/",
          "height": 926
        },
        "id": "dkaGjyBpYEfP",
        "outputId": "5858318a-3817-4dfe-8a53-b42c42648942"
      },
      "source": [
        "import os\n",
        "\n",
        "number_of_teams = 20\n",
        "\n",
        "files = os.listdir('/content/FPL-Predictor/data/2020-21/understat')\n",
        "\n",
        "dataframes_list = []\n",
        "for f in files:\n",
        "    current_club = pd.read_csv('/content/FPL-Predictor/data/2020-21/understat/' + f)\n",
        "    current_club['name'] = f[10:].split('.')[0]\n",
        "    dataframes_list.append(current_club)\n",
        "\n",
        "clubs_dataframe = dataframes_list[0]\n",
        "clubs_dataframe.append(dataframes_list[1])\n",
        "    \n",
        "\n",
        "\n"
      ],
      "execution_count": null,
      "outputs": [
        {
          "output_type": "stream",
          "text": [
            "0     Aston_Villa\n",
            "1     Aston_Villa\n",
            "2     Aston_Villa\n",
            "3     Aston_Villa\n",
            "4     Aston_Villa\n",
            "         ...     \n",
            "33        Arsenal\n",
            "34        Arsenal\n",
            "35        Arsenal\n",
            "36        Arsenal\n",
            "37        Arsenal\n",
            "Name: name, Length: 1398, dtype: object\n"
          ],
          "name": "stdout"
        }
      ]
    },
    {
      "cell_type": "markdown",
      "metadata": {
        "id": "lOXF6fx3HVaM"
      },
      "source": [
        "## Train-test split\n",
        "\n",
        "As there is 38 gameweeks, 20% is nearly 7 gameweeks, so I will set every 7th gameweek as a test gameweek."
      ]
    },
    {
      "cell_type": "code",
      "metadata": {
        "id": "XAog2V809Bg3"
      },
      "source": [
        "train_dataset = dataset[dataset['GW'] % 7 != 0]\n",
        "test_dataset = dataset[dataset['GW'] % 7 == 0]"
      ],
      "execution_count": null,
      "outputs": []
    },
    {
      "cell_type": "code",
      "metadata": {
        "id": "hPu7-trdDAF0"
      },
      "source": [
        ""
      ],
      "execution_count": null,
      "outputs": []
    }
  ]
}